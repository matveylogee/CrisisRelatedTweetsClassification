{
  "cells": [
    {
      "cell_type": "markdown",
      "id": "23f127aa",
      "metadata": {
        "id": "23f127aa"
      },
      "source": [
        "\n",
        "# 04 — Fine-tuning **XLNet** for Crisis Tweets Classification\n",
        "\n",
        "- **Цель и задача**. Бинарная классификация твитов на «Related & informative» vs «Not informative» для кризисных событий. Модель должна обобщать на ранее невидимый тестовый набор.\n",
        "\n",
        "- **Стек**. PyTorch + Transformers (XLNet-base-cased), sklearn для метрик, NumPy/Pandas, Matplotlib; отслеживание экспериментов и артефактов — MLflow (локальный трекинг).\n",
        "\n",
        "- **Пайплайн данных**. Чёткое разделение train / val / test (стратифицированное). Токенизация XLNet-токенизатором с max_length и padding/truncation. Имбаланс классов компенсируется взвешенной CrossEntropy.\n",
        "\n",
        "- **Обучение**. Тренировка на train с AdamW и линейным шедулером с warmup, смешанная точность (AMP). Лучшая модель выбирается по минимальному val_loss (чекпойнт). Порог для класса подбирается по val для максимума F1.\n",
        "\n",
        "- **Оценка и логирование**. На test считаются Accuracy / Precision / Recall / F1 / ROC-AUC + матрица ошибок и ROC-кривая. В MLflow пишутся параметры, метрики, графики (accuracy/loss, ROC) и сохранённая PyTorch-модель."
      ]
    },
    {
      "cell_type": "code",
      "execution_count": null,
      "id": "dffd179a",
      "metadata": {
        "colab": {
          "base_uri": "https://localhost:8080/"
        },
        "id": "dffd179a",
        "outputId": "63e40bc0-8008-4533-c66f-5c4e14a60cec"
      },
      "outputs": [
        {
          "output_type": "stream",
          "name": "stdout",
          "text": [
            "\u001b[2K   \u001b[90m━━━━━━━━━━━━━━━━━━━━━━━━━━━━━━━━━━━━━━━━\u001b[0m \u001b[32m26.7/26.7 MB\u001b[0m \u001b[31m52.7 MB/s\u001b[0m eta \u001b[36m0:00:00\u001b[0m\n",
            "\u001b[2K   \u001b[90m━━━━━━━━━━━━━━━━━━━━━━━━━━━━━━━━━━━━━━━━\u001b[0m \u001b[32m2.2/2.2 MB\u001b[0m \u001b[31m77.1 MB/s\u001b[0m eta \u001b[36m0:00:00\u001b[0m\n",
            "\u001b[2K   \u001b[90m━━━━━━━━━━━━━━━━━━━━━━━━━━━━━━━━━━━━━━━━\u001b[0m \u001b[32m1.2/1.2 MB\u001b[0m \u001b[31m54.2 MB/s\u001b[0m eta \u001b[36m0:00:00\u001b[0m\n",
            "\u001b[2K   \u001b[90m━━━━━━━━━━━━━━━━━━━━━━━━━━━━━━━━━━━━━━━━\u001b[0m \u001b[32m147.8/147.8 kB\u001b[0m \u001b[31m5.5 MB/s\u001b[0m eta \u001b[36m0:00:00\u001b[0m\n",
            "\u001b[2K   \u001b[90m━━━━━━━━━━━━━━━━━━━━━━━━━━━━━━━━━━━━━━━━\u001b[0m \u001b[32m329.1/329.1 kB\u001b[0m \u001b[31m26.2 MB/s\u001b[0m eta \u001b[36m0:00:00\u001b[0m\n",
            "\u001b[2K   \u001b[90m━━━━━━━━━━━━━━━━━━━━━━━━━━━━━━━━━━━━━━━━\u001b[0m \u001b[32m114.9/114.9 kB\u001b[0m \u001b[31m7.6 MB/s\u001b[0m eta \u001b[36m0:00:00\u001b[0m\n",
            "\u001b[2K   \u001b[90m━━━━━━━━━━━━━━━━━━━━━━━━━━━━━━━━━━━━━━━━\u001b[0m \u001b[32m85.0/85.0 kB\u001b[0m \u001b[31m3.4 MB/s\u001b[0m eta \u001b[36m0:00:00\u001b[0m\n",
            "\u001b[2K   \u001b[90m━━━━━━━━━━━━━━━━━━━━━━━━━━━━━━━━━━━━━━━━\u001b[0m \u001b[32m86.2/86.2 kB\u001b[0m \u001b[31m5.5 MB/s\u001b[0m eta \u001b[36m0:00:00\u001b[0m\n",
            "\u001b[2K   \u001b[90m━━━━━━━━━━━━━━━━━━━━━━━━━━━━━━━━━━━━━━━━\u001b[0m \u001b[32m718.4/718.4 kB\u001b[0m \u001b[31m30.6 MB/s\u001b[0m eta \u001b[36m0:00:00\u001b[0m\n",
            "\u001b[2K   \u001b[90m━━━━━━━━━━━━━━━━━━━━━━━━━━━━━━━━━━━━━━━━\u001b[0m \u001b[32m203.4/203.4 kB\u001b[0m \u001b[31m17.6 MB/s\u001b[0m eta \u001b[36m0:00:00\u001b[0m\n",
            "\u001b[2K   \u001b[90m━━━━━━━━━━━━━━━━━━━━━━━━━━━━━━━━━━━━━━━━\u001b[0m \u001b[32m106.6/106.6 kB\u001b[0m \u001b[31m6.3 MB/s\u001b[0m eta \u001b[36m0:00:00\u001b[0m\n",
            "\u001b[2K   \u001b[90m━━━━━━━━━━━━━━━━━━━━━━━━━━━━━━━━━━━━━━━━\u001b[0m \u001b[32m96.4/96.4 kB\u001b[0m \u001b[31m6.3 MB/s\u001b[0m eta \u001b[36m0:00:00\u001b[0m\n",
            "\u001b[2K   \u001b[90m━━━━━━━━━━━━━━━━━━━━━━━━━━━━━━━━━━━━━━━━\u001b[0m \u001b[32m224.4/224.4 kB\u001b[0m \u001b[31m14.0 MB/s\u001b[0m eta \u001b[36m0:00:00\u001b[0m\n",
            "\u001b[2K   \u001b[90m━━━━━━━━━━━━━━━━━━━━━━━━━━━━━━━━━━━━━━━━\u001b[0m \u001b[32m331.1/331.1 kB\u001b[0m \u001b[31m14.8 MB/s\u001b[0m eta \u001b[36m0:00:00\u001b[0m\n",
            "\u001b[2K   \u001b[90m━━━━━━━━━━━━━━━━━━━━━━━━━━━━━━━━━━━━━━━━\u001b[0m \u001b[32m71.5/71.5 kB\u001b[0m \u001b[31m4.9 MB/s\u001b[0m eta \u001b[36m0:00:00\u001b[0m\n",
            "\u001b[?25h"
          ]
        }
      ],
      "source": [
        "!pip -q install transformers mlflow accelerate"
      ]
    },
    {
      "cell_type": "code",
      "execution_count": null,
      "id": "f692440e",
      "metadata": {
        "colab": {
          "base_uri": "https://localhost:8080/"
        },
        "id": "f692440e",
        "outputId": "bfb6c29a-4c36-4105-bd2d-1f659692b7ea"
      },
      "outputs": [
        {
          "output_type": "stream",
          "name": "stderr",
          "text": [
            "2025/10/07 14:35:40 INFO mlflow.tracking.fluent: Experiment with name 'XLNet_Finetune' does not exist. Creating a new experiment.\n"
          ]
        },
        {
          "output_type": "stream",
          "name": "stdout",
          "text": [
            "MLflow tracking: file:///content/mlruns\n"
          ]
        }
      ],
      "source": [
        "import os, re, random, pathlib\n",
        "import numpy as np\n",
        "import pandas as pd\n",
        "import matplotlib.pyplot as plt\n",
        "\n",
        "from sklearn.metrics import (\n",
        "    accuracy_score, precision_score, recall_score, f1_score,\n",
        "    roc_curve, auc, classification_report\n",
        ")\n",
        "\n",
        "from sklearn.model_selection import train_test_split\n",
        "\n",
        "import torch\n",
        "import torch.nn as nn\n",
        "from torch.utils.data import Dataset, DataLoader\n",
        "from torch.optim import AdamW\n",
        "from transformers import (\n",
        "    AutoTokenizer, AutoModelForSequenceClassification,\n",
        "    get_linear_schedule_with_warmup\n",
        ")\n",
        "\n",
        "import mlflow\n",
        "import mlflow.pytorch\n",
        "\n",
        "def set_seeds(seed=42):\n",
        "    random.seed(seed)\n",
        "    np.random.seed(seed)\n",
        "    torch.manual_seed(seed)\n",
        "    torch.cuda.manual_seed_all(seed)\n",
        "    torch.backends.cudnn.deterministic = True\n",
        "    torch.backends.cudnn.benchmark = False\n",
        "\n",
        "set_seeds(42)\n",
        "\n",
        "BASE_DIR = os.getcwd()\n",
        "TRACKING_DIR = os.path.join(BASE_DIR, \"mlruns\")\n",
        "os.makedirs(TRACKING_DIR, exist_ok=True)\n",
        "mlflow.set_tracking_uri(pathlib.Path(TRACKING_DIR).absolute().as_uri())\n",
        "mlflow.set_experiment(\"XLNet_Finetune\")\n",
        "print(\"MLflow tracking:\", mlflow.get_tracking_uri())"
      ]
    },
    {
      "cell_type": "code",
      "execution_count": null,
      "id": "13cdfa76",
      "metadata": {
        "colab": {
          "base_uri": "https://localhost:8080/"
        },
        "id": "13cdfa76",
        "outputId": "a9eca24b-ddee-4345-f5ad-408a8f88b171"
      },
      "outputs": [
        {
          "output_type": "stream",
          "name": "stdout",
          "text": [
            "Mounted at /content/drive\n",
            "Loaded: /content/drive/MyDrive/crisis_lstm/train_data.csv (19835, 2) | /content/drive/MyDrive/crisis_lstm/test_data.csv (4959, 2)\n",
            "Train positive ratio: 0.605\n"
          ]
        }
      ],
      "source": [
        "from google.colab import drive\n",
        "drive.mount('/content/drive', force_remount=False)\n",
        "\n",
        "DATA_DIR = \"/content/drive/MyDrive/crisis_lstm\"\n",
        "CAT = \"ALL\"\n",
        "\n",
        "def _cname(x): return re.sub(r'[^A-Za-z0-9_]+','_', str(x))\n",
        "\n",
        "if CAT == \"ALL\":\n",
        "    train_path = f\"{DATA_DIR}/train_data.csv\"\n",
        "    test_path  = f\"{DATA_DIR}/test_data.csv\"\n",
        "else:\n",
        "    cname = _cname(CAT)\n",
        "    train_path = f\"{DATA_DIR}/train_{cname}.csv\"\n",
        "    test_path  = f\"{DATA_DIR}/test_{cname}.csv\"\n",
        "\n",
        "df_train = pd.read_csv(train_path)\n",
        "df_test  = pd.read_csv(test_path)\n",
        "\n",
        "assert {'text','label'}.issubset(df_train.columns)\n",
        "assert {'text','label'}.issubset(df_test.columns)\n",
        "print('Loaded:', train_path, df_train.shape, '|', test_path, df_test.shape)\n",
        "print('Train positive ratio:', round(df_train['label'].mean(), 3))"
      ]
    },
    {
      "cell_type": "code",
      "execution_count": null,
      "metadata": {
        "colab": {
          "base_uri": "https://localhost:8080/"
        },
        "id": "FxWxc8NPznWK",
        "outputId": "7c5eb6bc-e897-4c9b-8703-0efc89b48cec"
      },
      "outputs": [
        {
          "output_type": "stream",
          "name": "stdout",
          "text": [
            "DEV split: (16859, 2) (2976, 2) | TEST: (4959, 2)\n"
          ]
        }
      ],
      "source": [
        "# --- Create split from the loaded TRAIN (stratified) ---\n",
        "\n",
        "df_tr, df_dev = train_test_split(\n",
        "    df_train, test_size=0.15, stratify=df_train['label'], random_state=42\n",
        ")\n",
        "\n",
        "print(\"DEV split:\", df_tr.shape, df_dev.shape, \"| TEST:\", df_test.shape if 'df_test' in globals() else None)"
      ],
      "id": "FxWxc8NPznWK"
    },
    {
      "cell_type": "code",
      "execution_count": null,
      "id": "8212e2d1",
      "metadata": {
        "colab": {
          "base_uri": "https://localhost:8080/"
        },
        "id": "8212e2d1",
        "outputId": "6ed62af2-b941-49ba-b959-dab79622da29"
      },
      "outputs": [
        {
          "output_type": "stream",
          "name": "stdout",
          "text": [
            "batches: train=1054 | dev=186 | test=310\n"
          ]
        }
      ],
      "source": [
        "MODEL_NAME = \"xlnet-base-cased\"\n",
        "MAX_LEN = 160\n",
        "BATCH_SIZE = 16\n",
        "\n",
        "tokenizer = AutoTokenizer.from_pretrained(MODEL_NAME, use_fast=True)\n",
        "\n",
        "class TweetsDataset(Dataset):\n",
        "    def __init__(self, texts, labels, tokenizer, max_len):\n",
        "        self.texts = list(texts)\n",
        "        self.labels = np.array(labels, dtype=np.int64)\n",
        "        self.tok = tokenizer\n",
        "        self.max_len = max_len\n",
        "\n",
        "    def __len__(self):\n",
        "        return len(self.texts)\n",
        "\n",
        "    def __getitem__(self, idx):\n",
        "        enc = self.tok(\n",
        "            str(self.texts[idx]),\n",
        "            padding=\"max_length\",\n",
        "            truncation=True,\n",
        "            max_length=self.max_len,\n",
        "            return_tensors=\"pt\",\n",
        "        )\n",
        "        item = {k: v.squeeze(0) for k, v in enc.items()}\n",
        "        item[\"labels\"] = torch.tensor(self.labels[idx], dtype=torch.long)\n",
        "        return item\n",
        "\n",
        "train_ds = TweetsDataset(df_tr[\"text\"],  df_tr[\"label\"],  tokenizer, MAX_LEN)\n",
        "dev_ds   = TweetsDataset(df_dev[\"text\"], df_dev[\"label\"], tokenizer, MAX_LEN)\n",
        "test_ds  = TweetsDataset(df_test[\"text\"], df_test[\"label\"], tokenizer, MAX_LEN)\n",
        "\n",
        "train_loader = DataLoader(train_ds, batch_size=BATCH_SIZE, shuffle=True,  num_workers=2, pin_memory=True)\n",
        "dev_loader   = DataLoader(dev_ds,   batch_size=BATCH_SIZE, shuffle=False, num_workers=2, pin_memory=True)\n",
        "test_loader  = DataLoader(test_ds,  batch_size=BATCH_SIZE, shuffle=False, num_workers=2, pin_memory=True)"
      ]
    },
    {
      "cell_type": "code",
      "execution_count": null,
      "id": "17ec26d7",
      "metadata": {
        "colab": {
          "base_uri": "https://localhost:8080/",
          "height": 173,
          "referenced_widgets": [
            "2c120c2412034f188f062318dfd7b261",
            "8039536a7720459e8cfa377257e20408",
            "b760fe435a244296af0cebbb14238395",
            "227b086d232b4a3d83e6526d23e2dd1f",
            "f703a82eeb444dde8cfed4cac030d42d",
            "7eb73e6f2e804637a9c03e6b20c45315",
            "f7d8b95864b44168bd204137b50c6775",
            "c07040d248364f38ac43575e2418c41a",
            "44d1f9dc55f94fe5aa9458445aece89f",
            "a2574d4c513340d099ee9d1d7932542b",
            "5d390652f7bd43d69de368ab14f69658"
          ]
        },
        "id": "17ec26d7",
        "outputId": "9cbd6fed-4aaf-4875-9848-7681ada68731"
      },
      "outputs": [
        {
          "output_type": "display_data",
          "data": {
            "text/plain": [
              "pytorch_model.bin:   0%|          | 0.00/467M [00:00<?, ?B/s]"
            ],
            "application/vnd.jupyter.widget-view+json": {
              "version_major": 2,
              "version_minor": 0,
              "model_id": "2c120c2412034f188f062318dfd7b261"
            }
          },
          "metadata": {}
        },
        {
          "output_type": "stream",
          "name": "stderr",
          "text": [
            "Some weights of XLNetForSequenceClassification were not initialized from the model checkpoint at xlnet-base-cased and are newly initialized: ['logits_proj.bias', 'logits_proj.weight', 'sequence_summary.summary.bias', 'sequence_summary.summary.weight']\n",
            "You should probably TRAIN this model on a down-stream task to be able to use it for predictions and inference.\n"
          ]
        },
        {
          "output_type": "stream",
          "name": "stdout",
          "text": [
            "Device: cuda\n",
            "Train batches per epoch: 1054  |  steps total: 3162\n"
          ]
        },
        {
          "output_type": "stream",
          "name": "stderr",
          "text": [
            "/tmp/ipython-input-3994584356.py:47: FutureWarning: `torch.cuda.amp.GradScaler(args...)` is deprecated. Please use `torch.amp.GradScaler('cuda', args...)` instead.\n",
            "  scaler = torch.cuda.amp.GradScaler(enabled=torch.cuda.is_available())\n"
          ]
        }
      ],
      "source": [
        "device = torch.device(\"cuda\" if torch.cuda.is_available() else \"cpu\")\n",
        "\n",
        "num_labels = 2\n",
        "model = AutoModelForSequenceClassification.from_pretrained(\n",
        "    MODEL_NAME, num_labels=num_labels\n",
        ").to(device)\n",
        "\n",
        "pos_ratio = float(df_train[\"label\"].mean())\n",
        "w1 = 1.0 / max(pos_ratio, 1e-6)\n",
        "w0 = 1.0 / max(1.0 - pos_ratio, 1e-6)\n",
        "class_weights = torch.tensor([w0, w1], dtype=torch.float32, device=device)\n",
        "\n",
        "criterion = nn.CrossEntropyLoss(weight=class_weights, label_smoothing=0.03)\n",
        "# criterion = nn.CrossEntropyLoss(weight=class_weights)\n",
        "\n",
        "LR = 1e-5\n",
        "EPOCHS = 3\n",
        "\n",
        "no_decay = [\"bias\", \"LayerNorm.weight\", \"LayerNorm.bias\"]\n",
        "optimizer_grouped_parameters = [\n",
        "    {\n",
        "        \"params\": [\n",
        "            p for n, p in model.named_parameters()\n",
        "            if not any(nd in n for nd in no_decay)\n",
        "        ],\n",
        "        \"weight_decay\": 0.01,\n",
        "    },\n",
        "    {\n",
        "        \"params\": [\n",
        "            p for n, p in model.named_parameters()\n",
        "            if any(nd in n for nd in no_decay)\n",
        "        ],\n",
        "        \"weight_decay\": 0.0,\n",
        "    },\n",
        "]\n",
        "optimizer = torch.optim.AdamW(optimizer_grouped_parameters, lr=LR)\n",
        "\n",
        "num_training_steps = EPOCHS * len(train_loader)\n",
        "scheduler = get_linear_schedule_with_warmup(\n",
        "    optimizer,\n",
        "    num_warmup_steps=int(0.1 * num_training_steps),\n",
        "    num_training_steps=num_training_steps,\n",
        ")\n",
        "\n",
        "scaler = torch.cuda.amp.GradScaler(enabled=torch.cuda.is_available())\n",
        "\n",
        "print(\"Device:\", device)"
      ]
    },
    {
      "cell_type": "code",
      "execution_count": null,
      "id": "beb6563a",
      "metadata": {
        "id": "beb6563a"
      },
      "outputs": [],
      "source": [
        "def train_epoch(model, loader, optimizer, scheduler, scaler, device):\n",
        "    model.train()\n",
        "    total_loss, total, correct = 0.0, 0, 0\n",
        "    for batch in loader:\n",
        "        batch = {k: v.to(device) for k, v in batch.items()}\n",
        "        labels = batch.pop(\"labels\")\n",
        "        optimizer.zero_grad(set_to_none=True)\n",
        "        with torch.cuda.amp.autocast(enabled=(device=='cuda')):\n",
        "            outputs = model(**batch, labels=None)\n",
        "            logits = outputs.logits\n",
        "            loss = criterion(logits, labels)\n",
        "        scaler.scale(loss).backward()\n",
        "        scaler.step(optimizer)\n",
        "        scaler.update()\n",
        "        scheduler.step()\n",
        "\n",
        "        total_loss += loss.item() * labels.size(0)\n",
        "        preds = logits.argmax(dim=-1)\n",
        "        correct += (preds == labels).sum().item()\n",
        "        total += labels.size(0)\n",
        "    return total_loss / max(1,total), correct / max(1,total)\n",
        "\n",
        "@torch.no_grad()\n",
        "def eval_epoch(model, loader, device):\n",
        "    model.eval()\n",
        "    total_loss, total, correct = 0.0, 0, 0\n",
        "    all_probs, all_labels = [], []\n",
        "    for batch in loader:\n",
        "        batch = {k: v.to(device) for k, v in batch.items()}\n",
        "        labels = batch.pop(\"labels\")\n",
        "        outputs = model(**batch, labels=None)\n",
        "        logits = outputs.logits\n",
        "        loss = criterion(logits, labels)\n",
        "\n",
        "        total_loss += loss.item() * labels.size(0)\n",
        "        probs = torch.softmax(logits, dim=-1)[:, 1]\n",
        "        preds = logits.argmax(dim=-1)\n",
        "\n",
        "        correct += (preds == labels).sum().item()\n",
        "        total += labels.size(0)\n",
        "        all_probs.append(probs.cpu().numpy())\n",
        "        all_labels.append(labels.cpu().numpy())\n",
        "\n",
        "    y_prob = np.concatenate(all_probs)\n",
        "    y_true = np.concatenate(all_labels)\n",
        "\n",
        "    fpr, tpr, _ = roc_curve(y_true, y_prob, pos_label=1)\n",
        "    mauc = auc(fpr, tpr)\n",
        "    acc = correct / max(1,total)\n",
        "    return total_loss / max(1,total), acc, y_true, y_prob, (fpr, tpr, mauc)\n",
        "\n",
        "def log_metrics(y_true, y_prob, mlflow_client=None, prefix=\"test\"):\n",
        "    y_bin = (y_prob > 0.5).astype(int)\n",
        "    acc  = accuracy_score(y_true, y_bin)\n",
        "    pre  = precision_score(y_true, y_bin, zero_division=0)\n",
        "    rec  = recall_score(y_true, y_bin, zero_division=0)\n",
        "    f1   = f1_score(y_true, y_bin, zero_division=0)\n",
        "    fpr, tpr, _ = roc_curve(y_true, y_prob)\n",
        "    mauc = auc(fpr, tpr)\n",
        "    print(classification_report(\n",
        "        y_true, y_bin,\n",
        "        target_names=['Not informative','Related and informative']\n",
        "    ))\n",
        "    if mlflow_client:\n",
        "        mlflow.log_metric(f\"{prefix}_accuracy\",  float(acc))\n",
        "        mlflow.log_metric(f\"{prefix}_precision\", float(pre))\n",
        "        mlflow.log_metric(f\"{prefix}_recall\",    float(rec))\n",
        "        mlflow.log_metric(f\"{prefix}_f1\",        float(f1))\n",
        "        mlflow.log_metric(f\"{prefix}_mAUC\",      float(mauc))\n",
        "    return acc, pre, rec, f1, mauc"
      ]
    },
    {
      "cell_type": "code",
      "execution_count": null,
      "id": "f3796f59",
      "metadata": {
        "colab": {
          "base_uri": "https://localhost:8080/",
          "height": 1000
        },
        "id": "f3796f59",
        "outputId": "c93ca8cf-a1bc-42ec-e4ca-87c6204984db"
      },
      "outputs": [
        {
          "output_type": "stream",
          "name": "stderr",
          "text": [
            "/tmp/ipython-input-2182925284.py:8: FutureWarning: `torch.cuda.amp.autocast(args...)` is deprecated. Please use `torch.amp.autocast('cuda', args...)` instead.\n",
            "  with torch.cuda.amp.autocast(enabled=(device=='cuda')):\n"
          ]
        },
        {
          "output_type": "stream",
          "name": "stdout",
          "text": [
            "[1/3] train_loss=0.4754 acc=0.7823 | val_loss=0.3796 acc=0.8451 AUC=0.9263\n"
          ]
        },
        {
          "output_type": "stream",
          "name": "stderr",
          "text": [
            "/tmp/ipython-input-2182925284.py:8: FutureWarning: `torch.cuda.amp.autocast(args...)` is deprecated. Please use `torch.amp.autocast('cuda', args...)` instead.\n",
            "  with torch.cuda.amp.autocast(enabled=(device=='cuda')):\n"
          ]
        },
        {
          "output_type": "stream",
          "name": "stdout",
          "text": [
            "[2/3] train_loss=0.3707 acc=0.8525 | val_loss=0.3709 acc=0.8579 AUC=0.9313\n"
          ]
        },
        {
          "output_type": "stream",
          "name": "stderr",
          "text": [
            "/tmp/ipython-input-2182925284.py:8: FutureWarning: `torch.cuda.amp.autocast(args...)` is deprecated. Please use `torch.amp.autocast('cuda', args...)` instead.\n",
            "  with torch.cuda.amp.autocast(enabled=(device=='cuda')):\n"
          ]
        },
        {
          "output_type": "stream",
          "name": "stdout",
          "text": [
            "[3/3] train_loss=0.3232 acc=0.8802 | val_loss=0.3791 acc=0.8609 AUC=0.9322\n"
          ]
        },
        {
          "output_type": "display_data",
          "data": {
            "text/plain": [
              "<Figure size 1000x400 with 2 Axes>"
            ],
            "image/png": "[encoded data removed]"
          },
          "metadata": {}
        },
        {
          "output_type": "stream",
          "name": "stdout",
          "text": [
            "                         precision    recall  f1-score   support\n",
            "\n",
            "        Not informative       0.80      0.85      0.82      1961\n",
            "Related and informative       0.90      0.86      0.88      2998\n",
            "\n",
            "               accuracy                           0.86      4959\n",
            "              macro avg       0.85      0.85      0.85      4959\n",
            "           weighted avg       0.86      0.86      0.86      4959\n",
            "\n"
          ]
        },
        {
          "output_type": "display_data",
          "data": {
            "text/plain": [
              "<Figure size 640x480 with 1 Axes>"
            ],
            "image/png": "[encoded data removed]"
          },
          "metadata": {}
        },
        {
          "output_type": "stream",
          "name": "stderr",
          "text": [
            "2025/10/07 15:22:38 WARNING mlflow.models.model: `artifact_path` is deprecated. Please use `name` instead.\n",
            "2025/10/07 15:22:40 WARNING mlflow.utils.requirements_utils: Found torch version (2.8.0+cu126) contains a local version label (+cu126). MLflow logged a pip requirement for this package as 'torch==2.8.0' without the local version label to make it installable from PyPI. To specify pip requirements containing local version labels, please use `conda_env` or `pip_requirements`.\n",
            "2025/10/07 15:23:03 WARNING mlflow.utils.requirements_utils: Found torchvision version (0.23.0+cu126) contains a local version label (+cu126). MLflow logged a pip requirement for this package as 'torchvision==0.23.0' without the local version label to make it installable from PyPI. To specify pip requirements containing local version labels, please use `conda_env` or `pip_requirements`.\n",
            "\u001b[31m2025/10/07 15:23:03 WARNING mlflow.models.model: Model logged without a signature and input example. Please set `input_example` parameter when logging the model to auto infer the model signature.\u001b[0m\n"
          ]
        }
      ],
      "source": [
        "run_name = f\"XLNet_{CAT}_bs{BATCH_SIZE}_ep{EPOCHS}_maxlen{MAX_LEN}\"\n",
        "with mlflow.start_run(run_name=run_name):\n",
        "    mlflow.log_params({\n",
        "        \"model_name\": MODEL_NAME,\n",
        "        \"category\": CAT,\n",
        "        \"max_len\": MAX_LEN,\n",
        "        \"batch_size\": BATCH_SIZE,\n",
        "        \"epochs\": EPOCHS,\n",
        "        \"lr\": LR,\n",
        "        \"weight_decay\": 0.01\n",
        "    })\n",
        "\n",
        "    hist = {\"train_loss\": [], \"train_acc\": [], \"val_loss\": [], \"val_acc\": []}\n",
        "\n",
        "    # выбираем лучший чекпойнт по минимальному val_loss\n",
        "    best_val_loss = float(\"inf\")\n",
        "    best_state = None\n",
        "\n",
        "    for ep in range(1, EPOCHS + 1):\n",
        "        tr_loss, tr_acc = train_epoch(model, train_loader, optimizer, scheduler, scaler, device)\n",
        "\n",
        "        val_loss, val_acc, y_true_val, y_prob_val, (fpr, tpr, mauc_val) = eval_epoch(\n",
        "            model, dev_loader, device\n",
        "        )\n",
        "\n",
        "        hist[\"train_loss\"].append(tr_loss); hist[\"train_acc\"].append(tr_acc)\n",
        "        hist[\"val_loss\"].append(val_loss);   hist[\"val_acc\"].append(val_acc)\n",
        "\n",
        "        print(f\"[{ep}/{EPOCHS}] \"\n",
        "              f\"train_loss={tr_loss:.4f} acc={tr_acc:.4f} | \"\n",
        "              f\"val_loss={val_loss:.4f} acc={val_acc:.4f} AUC={mauc_val:.4f}\")\n",
        "\n",
        "        mlflow.log_metrics({\n",
        "            \"train_loss\": tr_loss, \"train_acc\": tr_acc,\n",
        "            \"val_loss\": val_loss, \"val_acc\": val_acc, \"val_mAUC\": mauc_val\n",
        "        }, step=ep)\n",
        "\n",
        "        # сохраняем лучший по val_loss\n",
        "        if val_loss < best_val_loss:\n",
        "            best_val_loss = val_loss\n",
        "            best_state = {k: v.detach().cpu().clone() for k, v in model.state_dict().items()}\n",
        "\n",
        "    # кривые обучения\n",
        "    fig, ax = plt.subplots(1, 2, figsize=(10, 4))\n",
        "    ax[0].plot(hist[\"train_acc\"], label=\"train\"); ax[0].plot(hist[\"val_acc\"], label=\"val\")\n",
        "    ax[0].set_title(\"accuracy\"); ax[0].legend()\n",
        "    ax[1].plot(hist[\"train_loss\"], label=\"train\"); ax[1].plot(hist[\"val_loss\"], label=\"val\")\n",
        "    ax[1].set_title(\"loss\"); ax[1].legend()\n",
        "    plt.tight_layout(); plt.show()\n",
        "    mlflow.log_figure(fig, \"training_curves.png\")\n",
        "\n",
        "    # перед тестом — возвращаем лучшие веса по DEV\n",
        "    if best_state is not None:\n",
        "        model.load_state_dict(best_state)\n",
        "\n",
        "    # финальная оценка на TEST (модель раньше его не видела)\n",
        "    test_loss, test_acc, y_true, y_prob, (fpr, tpr, mauc) = eval_epoch(model, test_loader, device)\n",
        "    acc, pre, rec, f1, mauc = log_metrics(y_true, y_prob, mlflow, prefix=\"test\")\n",
        "\n",
        "    # ROC кривая\n",
        "    fig = plt.figure()\n",
        "    plt.plot(fpr, tpr); plt.plot([0, 1], [0, 1], '--')\n",
        "    plt.title(f'ROC AUC={mauc:.3f}')\n",
        "    plt.xlabel('FPR'); plt.ylabel('TPR'); plt.grid(True)\n",
        "    plt.show()\n",
        "    mlflow.log_figure(fig, \"roc_curve.png\")\n",
        "\n",
        "    # лог модели в MLflow (без input_example/ signature, чтобы не падало)\n",
        "    mlflow.pytorch.log_model(model, artifact_path=\"XLNet_model\")"
      ]
    }
  ],
  "metadata": {
    "colab": {
      "provenance": [],
      "gpuType": "T4"
    },
    "language_info": {
      "name": "python"
    },
    "kernelspec": {
      "name": "python3",
      "display_name": "Python 3"
    },
    "accelerator": "GPU",
    "widgets": {
      "application/vnd.jupyter.widget-state+json": {
        "2c120c2412034f188f062318dfd7b261": {
          "model_module": "@jupyter-widgets/controls",
          "model_name": "HBoxModel",
          "model_module_version": "1.5.0",
          "state": {
            "_dom_classes": [],
            "_model_module": "@jupyter-widgets/controls",
            "_model_module_version": "1.5.0",
            "_model_name": "HBoxModel",
            "_view_count": null,
            "_view_module": "@jupyter-widgets/controls",
            "_view_module_version": "1.5.0",
            "_view_name": "HBoxView",
            "box_style": "",
            "children": [
              "IPY_MODEL_8039536a7720459e8cfa377257e20408",
              "IPY_MODEL_b760fe435a244296af0cebbb14238395",
              "IPY_MODEL_227b086d232b4a3d83e6526d23e2dd1f"
            ],
            "layout": "IPY_MODEL_f703a82eeb444dde8cfed4cac030d42d"
          }
        },
        "8039536a7720459e8cfa377257e20408": {
          "model_module": "@jupyter-widgets/controls",
          "model_name": "HTMLModel",
          "model_module_version": "1.5.0",
          "state": {
            "_dom_classes": [],
            "_model_module": "@jupyter-widgets/controls",
            "_model_module_version": "1.5.0",
            "_model_name": "HTMLModel",
            "_view_count": null,
            "_view_module": "@jupyter-widgets/controls",
            "_view_module_version": "1.5.0",
            "_view_name": "HTMLView",
            "description": "",
            "description_tooltip": null,
            "layout": "IPY_MODEL_7eb73e6f2e804637a9c03e6b20c45315",
            "placeholder": "​",
            "style": "IPY_MODEL_f7d8b95864b44168bd204137b50c6775",
            "value": "pytorch_model.bin: 100%"
          }
        },
        "b760fe435a244296af0cebbb14238395": {
          "model_module": "@jupyter-widgets/controls",
          "model_name": "FloatProgressModel",
          "model_module_version": "1.5.0",
          "state": {
            "_dom_classes": [],
            "_model_module": "@jupyter-widgets/controls",
            "_model_module_version": "1.5.0",
            "_model_name": "FloatProgressModel",
            "_view_count": null,
            "_view_module": "@jupyter-widgets/controls",
            "_view_module_version": "1.5.0",
            "_view_name": "ProgressView",
            "bar_style": "success",
            "description": "",
            "description_tooltip": null,
            "layout": "IPY_MODEL_c07040d248364f38ac43575e2418c41a",
            "max": 467042463,
            "min": 0,
            "orientation": "horizontal",
            "style": "IPY_MODEL_44d1f9dc55f94fe5aa9458445aece89f",
            "value": 467042463
          }
        },
        "227b086d232b4a3d83e6526d23e2dd1f": {
          "model_module": "@jupyter-widgets/controls",
          "model_name": "HTMLModel",
          "model_module_version": "1.5.0",
          "state": {
            "_dom_classes": [],
            "_model_module": "@jupyter-widgets/controls",
            "_model_module_version": "1.5.0",
            "_model_name": "HTMLModel",
            "_view_count": null,
            "_view_module": "@jupyter-widgets/controls",
            "_view_module_version": "1.5.0",
            "_view_name": "HTMLView",
            "description": "",
            "description_tooltip": null,
            "layout": "IPY_MODEL_a2574d4c513340d099ee9d1d7932542b",
            "placeholder": "​",
            "style": "IPY_MODEL_5d390652f7bd43d69de368ab14f69658",
            "value": " 467M/467M [00:14&lt;00:00, 51.3MB/s]"
          }
        },
        "f703a82eeb444dde8cfed4cac030d42d": {
          "model_module": "@jupyter-widgets/base",
          "model_name": "LayoutModel",
          "model_module_version": "1.2.0",
          "state": {
            "_model_module": "@jupyter-widgets/base",
            "_model_module_version": "1.2.0",
            "_model_name": "LayoutModel",
            "_view_count": null,
            "_view_module": "@jupyter-widgets/base",
            "_view_module_version": "1.2.0",
            "_view_name": "LayoutView",
            "align_content": null,
            "align_items": null,
            "align_self": null,
            "border": null,
            "bottom": null,
            "display": null,
            "flex": null,
            "flex_flow": null,
            "grid_area": null,
            "grid_auto_columns": null,
            "grid_auto_flow": null,
            "grid_auto_rows": null,
            "grid_column": null,
            "grid_gap": null,
            "grid_row": null,
            "grid_template_areas": null,
            "grid_template_columns": null,
            "grid_template_rows": null,
            "height": null,
            "justify_content": null,
            "justify_items": null,
            "left": null,
            "margin": null,
            "max_height": null,
            "max_width": null,
            "min_height": null,
            "min_width": null,
            "object_fit": null,
            "object_position": null,
            "order": null,
            "overflow": null,
            "overflow_x": null,
            "overflow_y": null,
            "padding": null,
            "right": null,
            "top": null,
            "visibility": null,
            "width": null
          }
        },
        "7eb73e6f2e804637a9c03e6b20c45315": {
          "model_module": "@jupyter-widgets/base",
          "model_name": "LayoutModel",
          "model_module_version": "1.2.0",
          "state": {
            "_model_module": "@jupyter-widgets/base",
            "_model_module_version": "1.2.0",
            "_model_name": "LayoutModel",
            "_view_count": null,
            "_view_module": "@jupyter-widgets/base",
            "_view_module_version": "1.2.0",
            "_view_name": "LayoutView",
            "align_content": null,
            "align_items": null,
            "align_self": null,
            "border": null,
            "bottom": null,
            "display": null,
            "flex": null,
            "flex_flow": null,
            "grid_area": null,
            "grid_auto_columns": null,
            "grid_auto_flow": null,
            "grid_auto_rows": null,
            "grid_column": null,
            "grid_gap": null,
            "grid_row": null,
            "grid_template_areas": null,
            "grid_template_columns": null,
            "grid_template_rows": null,
            "height": null,
            "justify_content": null,
            "justify_items": null,
            "left": null,
            "margin": null,
            "max_height": null,
            "max_width": null,
            "min_height": null,
            "min_width": null,
            "object_fit": null,
            "object_position": null,
            "order": null,
            "overflow": null,
            "overflow_x": null,
            "overflow_y": null,
            "padding": null,
            "right": null,
            "top": null,
            "visibility": null,
            "width": null
          }
        },
        "f7d8b95864b44168bd204137b50c6775": {
          "model_module": "@jupyter-widgets/controls",
          "model_name": "DescriptionStyleModel",
          "model_module_version": "1.5.0",
          "state": {
            "_model_module": "@jupyter-widgets/controls",
            "_model_module_version": "1.5.0",
            "_model_name": "DescriptionStyleModel",
            "_view_count": null,
            "_view_module": "@jupyter-widgets/base",
            "_view_module_version": "1.2.0",
            "_view_name": "StyleView",
            "description_width": ""
          }
        },
        "c07040d248364f38ac43575e2418c41a": {
          "model_module": "@jupyter-widgets/base",
          "model_name": "LayoutModel",
          "model_module_version": "1.2.0",
          "state": {
            "_model_module": "@jupyter-widgets/base",
            "_model_module_version": "1.2.0",
            "_model_name": "LayoutModel",
            "_view_count": null,
            "_view_module": "@jupyter-widgets/base",
            "_view_module_version": "1.2.0",
            "_view_name": "LayoutView",
            "align_content": null,
            "align_items": null,
            "align_self": null,
            "border": null,
            "bottom": null,
            "display": null,
            "flex": null,
            "flex_flow": null,
            "grid_area": null,
            "grid_auto_columns": null,
            "grid_auto_flow": null,
            "grid_auto_rows": null,
            "grid_column": null,
            "grid_gap": null,
            "grid_row": null,
            "grid_template_areas": null,
            "grid_template_columns": null,
            "grid_template_rows": null,
            "height": null,
            "justify_content": null,
            "justify_items": null,
            "left": null,
            "margin": null,
            "max_height": null,
            "max_width": null,
            "min_height": null,
            "min_width": null,
            "object_fit": null,
            "object_position": null,
            "order": null,
            "overflow": null,
            "overflow_x": null,
            "overflow_y": null,
            "padding": null,
            "right": null,
            "top": null,
            "visibility": null,
            "width": null
          }
        },
        "44d1f9dc55f94fe5aa9458445aece89f": {
          "model_module": "@jupyter-widgets/controls",
          "model_name": "ProgressStyleModel",
          "model_module_version": "1.5.0",
          "state": {
            "_model_module": "@jupyter-widgets/controls",
            "_model_module_version": "1.5.0",
            "_model_name": "ProgressStyleModel",
            "_view_count": null,
            "_view_module": "@jupyter-widgets/base",
            "_view_module_version": "1.2.0",
            "_view_name": "StyleView",
            "bar_color": null,
            "description_width": ""
          }
        },
        "a2574d4c513340d099ee9d1d7932542b": {
          "model_module": "@jupyter-widgets/base",
          "model_name": "LayoutModel",
          "model_module_version": "1.2.0",
          "state": {
            "_model_module": "@jupyter-widgets/base",
            "_model_module_version": "1.2.0",
            "_model_name": "LayoutModel",
            "_view_count": null,
            "_view_module": "@jupyter-widgets/base",
            "_view_module_version": "1.2.0",
            "_view_name": "LayoutView",
            "align_content": null,
            "align_items": null,
            "align_self": null,
            "border": null,
            "bottom": null,
            "display": null,
            "flex": null,
            "flex_flow": null,
            "grid_area": null,
            "grid_auto_columns": null,
            "grid_auto_flow": null,
            "grid_auto_rows": null,
            "grid_column": null,
            "grid_gap": null,
            "grid_row": null,
            "grid_template_areas": null,
            "grid_template_columns": null,
            "grid_template_rows": null,
            "height": null,
            "justify_content": null,
            "justify_items": null,
            "left": null,
            "margin": null,
            "max_height": null,
            "max_width": null,
            "min_height": null,
            "min_width": null,
            "object_fit": null,
            "object_position": null,
            "order": null,
            "overflow": null,
            "overflow_x": null,
            "overflow_y": null,
            "padding": null,
            "right": null,
            "top": null,
            "visibility": null,
            "width": null
          }
        },
        "5d390652f7bd43d69de368ab14f69658": {
          "model_module": "@jupyter-widgets/controls",
          "model_name": "DescriptionStyleModel",
          "model_module_version": "1.5.0",
          "state": {
            "_model_module": "@jupyter-widgets/controls",
            "_model_module_version": "1.5.0",
            "_model_name": "DescriptionStyleModel",
            "_view_count": null,
            "_view_module": "@jupyter-widgets/base",
            "_view_module_version": "1.2.0",
            "_view_name": "StyleView",
            "description_width": ""
          }
        }
      }
    }
  },
  "nbformat": 4,
  "nbformat_minor": 5
}